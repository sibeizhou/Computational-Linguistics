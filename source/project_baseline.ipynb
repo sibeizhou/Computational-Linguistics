{
 "cells": [
  {
   "cell_type": "code",
   "execution_count": 1,
   "id": "b0652791",
   "metadata": {},
   "outputs": [],
   "source": [
    "import os, re\n",
    "from sklearn.feature_extraction.text import CountVectorizer\n",
    "from sklearn.linear_model import LogisticRegression\n",
    "from sklearn.metrics import accuracy_score\n",
    "from sklearn.model_selection import train_test_split"
   ]
  },
  {
   "cell_type": "markdown",
   "id": "6089384f",
   "metadata": {},
   "source": [
    "## Data preprocess\n",
    "\n",
    "### Remove the line breakers and non-english characters"
   ]
  },
  {
   "cell_type": "code",
   "execution_count": 2,
   "id": "ed87056d",
   "metadata": {},
   "outputs": [],
   "source": [
    "def preprocess_reviews(reviews):\n",
    "    modified_reviews =[]\n",
    "    remove_char = '[’!\"#$%&\\'()*+,-./:;<=>?@[\\\\]^_`{|}~\\n。！，]+'\n",
    "    for review in reviews:\n",
    "        modified_review = remove_char.replace('<br />', \"\")\n",
    "        modified_review = re.sub(modified_review, '', review)\n",
    "        modified_reviews.append(modified_review)\n",
    "\n",
    "    return modified_reviews"
   ]
  },
  {
   "cell_type": "markdown",
   "id": "67f74c1a",
   "metadata": {},
   "source": [
    "## Create input_file function "
   ]
  },
  {
   "cell_type": "code",
   "execution_count": 3,
   "id": "b584399c",
   "metadata": {},
   "outputs": [],
   "source": [
    "def input_file(train, test):\n",
    "    # Input training data\n",
    "    reviews_train = train\n",
    "    paths_train = ['data/aclImdb/train/neg', 'data/aclImdb/train/pos']\n",
    "    for path in paths_train:\n",
    "        files = os.listdir(path)\n",
    "        for file in files:\n",
    "            if not os.path.isdir(file):\n",
    "                temp = file.split(\"_\", 1)\n",
    "                score = temp[1].split(\".\", 1)\n",
    "                review = \"\"\n",
    "                with open(path + \"/\" + file, 'r', encoding=\"utf8\") as f:\n",
    "                    for line in f.readlines():\n",
    "                        review += line.strip()\n",
    "                # reviews_train.append(' '.join([str(score[0]), review]))\n",
    "                reviews_train.append(review)\n",
    "\n",
    "    # Input training data\n",
    "    reviews_test = test\n",
    "    paths_test = ['data/aclImdb/test/neg', 'data/aclImdb/test/pos']\n",
    "    for path in paths_test:\n",
    "        files = os.listdir(path)\n",
    "        for file in files:\n",
    "            if not os.path.isdir(file):\n",
    "                temp = file.split(\"_\", 1)\n",
    "                score = temp[1].split(\".\", 1)\n",
    "                review = ''\n",
    "                with open(path + \"/\" + file, 'r', encoding=\"utf8\") as f:\n",
    "                    for line in f.readlines():\n",
    "                        review += line.strip()\n",
    "                # reviews_test.append(' '.join([str(score[0]), review]))\n",
    "                reviews_test.append(review)\n",
    "\n",
    "    result = preprocess_reviews(train) + preprocess_reviews(test)\n",
    "    return result"
   ]
  },
  {
   "cell_type": "markdown",
   "id": "9a24eff7",
   "metadata": {},
   "source": [
    "## Loading data and preprocess it"
   ]
  },
  {
   "cell_type": "code",
   "execution_count": 4,
   "id": "7a7f7210",
   "metadata": {},
   "outputs": [],
   "source": [
    "# Loading data and preprocess it\n",
    "reviews_train = []\n",
    "reviews_test = []\n",
    "result = input_file(reviews_train, reviews_test)\n",
    "reviews_train_clean = result[:25000]\n",
    "reviews_test_clean = result[25000:]"
   ]
  },
  {
   "cell_type": "markdown",
   "id": "fc994491",
   "metadata": {},
   "source": [
    "## Vectorize the words to one-hot vector"
   ]
  },
  {
   "cell_type": "code",
   "execution_count": 5,
   "id": "f3677809",
   "metadata": {},
   "outputs": [],
   "source": [
    "# Baseline (one-hot vector + Logistic Regression)\n",
    "cv = CountVectorizer(binary=True)\n",
    "cv.fit(reviews_train_clean)\n",
    "X = cv.transform(reviews_train_clean)\n",
    "X_test = cv.transform(reviews_test_clean)"
   ]
  },
  {
   "cell_type": "markdown",
   "id": "377728fe",
   "metadata": {},
   "source": [
    "## Create Logistic Regression"
   ]
  },
  {
   "cell_type": "code",
   "execution_count": 6,
   "id": "388f22d3",
   "metadata": {},
   "outputs": [
    {
     "name": "stdout",
     "output_type": "stream",
     "text": [
      "Logistic Regression with c = 0.05 accuracy is 0.88436\n"
     ]
    },
    {
     "name": "stderr",
     "output_type": "stream",
     "text": [
      "/home/vagrant/Desktop/413/nlpclass-1227-g-wow/project/venv/lib/python3.8/site-packages/sklearn/linear_model/_logistic.py:444: ConvergenceWarning: lbfgs failed to converge (status=1):\n",
      "STOP: TOTAL NO. of ITERATIONS REACHED LIMIT.\n",
      "\n",
      "Increase the number of iterations (max_iter) or scale the data as shown in:\n",
      "    https://scikit-learn.org/stable/modules/preprocessing.html\n",
      "Please also refer to the documentation for alternative solver options:\n",
      "    https://scikit-learn.org/stable/modules/linear_model.html#logistic-regression\n",
      "  n_iter_i = _check_optimize_result(\n"
     ]
    },
    {
     "name": "stdout",
     "output_type": "stream",
     "text": [
      "Logistic Regression with c = 0.25 accuracy is 0.87988\n"
     ]
    },
    {
     "name": "stderr",
     "output_type": "stream",
     "text": [
      "/home/vagrant/Desktop/413/nlpclass-1227-g-wow/project/venv/lib/python3.8/site-packages/sklearn/linear_model/_logistic.py:444: ConvergenceWarning: lbfgs failed to converge (status=1):\n",
      "STOP: TOTAL NO. of ITERATIONS REACHED LIMIT.\n",
      "\n",
      "Increase the number of iterations (max_iter) or scale the data as shown in:\n",
      "    https://scikit-learn.org/stable/modules/preprocessing.html\n",
      "Please also refer to the documentation for alternative solver options:\n",
      "    https://scikit-learn.org/stable/modules/linear_model.html#logistic-regression\n",
      "  n_iter_i = _check_optimize_result(\n"
     ]
    },
    {
     "name": "stdout",
     "output_type": "stream",
     "text": [
      "Logistic Regression with c = 0.5 accuracy is 0.87684\n",
      "Logistic Regression with c = 1 accuracy is 0.87404\n"
     ]
    },
    {
     "name": "stderr",
     "output_type": "stream",
     "text": [
      "/home/vagrant/Desktop/413/nlpclass-1227-g-wow/project/venv/lib/python3.8/site-packages/sklearn/linear_model/_logistic.py:444: ConvergenceWarning: lbfgs failed to converge (status=1):\n",
      "STOP: TOTAL NO. of ITERATIONS REACHED LIMIT.\n",
      "\n",
      "Increase the number of iterations (max_iter) or scale the data as shown in:\n",
      "    https://scikit-learn.org/stable/modules/preprocessing.html\n",
      "Please also refer to the documentation for alternative solver options:\n",
      "    https://scikit-learn.org/stable/modules/linear_model.html#logistic-regression\n",
      "  n_iter_i = _check_optimize_result(\n"
     ]
    }
   ],
   "source": [
    "target = [0 if i < 12500 else 1 for i in range(25000)]\n",
    "\n",
    "X_train, X_val, y_train, y_val = train_test_split(\n",
    "    X, target, train_size=0.75\n",
    ")\n",
    "c_values = [0.05, 0.25, 0.5, 1]\n",
    "for c in c_values:\n",
    "    final_model = LogisticRegression(C=c)\n",
    "    final_model.fit(X, target)\n",
    "    print(\"Logistic Regression with c = \" + str(c) +\n",
    "          \" accuracy is %s\"\n",
    "              % accuracy_score(target, final_model.predict(X_test)))"
   ]
  }
 ],
 "metadata": {
  "kernelspec": {
   "display_name": "Python 3 (ipykernel)",
   "language": "python",
   "name": "python3"
  },
  "language_info": {
   "codemirror_mode": {
    "name": "ipython",
    "version": 3
   },
   "file_extension": ".py",
   "mimetype": "text/x-python",
   "name": "python",
   "nbconvert_exporter": "python",
   "pygments_lexer": "ipython3",
   "version": "3.8.5"
  }
 },
 "nbformat": 4,
 "nbformat_minor": 5
}
