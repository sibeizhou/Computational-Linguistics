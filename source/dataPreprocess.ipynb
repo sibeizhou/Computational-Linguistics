{
 "cells": [
  {
   "cell_type": "code",
   "execution_count": 1,
   "id": "82cc21fb",
   "metadata": {},
   "outputs": [],
   "source": [
    "import os\n",
    "import re\n",
    "import nltk\n",
    "from nltk.corpus import stopwords\n",
    "from nltk.tokenize import word_tokenize\n",
    "\n",
    "import unicodedata\n",
    "from pandas import DataFrame"
   ]
  },
  {
   "cell_type": "code",
   "execution_count": 2,
   "id": "3bb78d99",
   "metadata": {},
   "outputs": [],
   "source": [
    "def unicodeToAscii(s):\n",
    "    \"\"\"transer to Ascii\n",
    "    \"\"\"\n",
    "    return ''.join(\n",
    "        c for c in unicodedata.normalize('NFD', s)\n",
    "        if unicodedata.category(c) != 'Mn'\n",
    "    )"
   ]
  },
  {
   "cell_type": "code",
   "execution_count": 3,
   "id": "d61d38a3",
   "metadata": {},
   "outputs": [],
   "source": [
    "def preprocess_reviews(reviews):\n",
    "    REPLACE_NO_SPACE = re.compile(\"[.;:!\\'?,\\\"()\\[\\]]\")\n",
    "    REPLACE_WITH_SPACE = re.compile(\"(<br\\s*/><br\\s*/>)|(\\-)|(\\/)\")\n",
    "\n",
    "    reviews = [REPLACE_NO_SPACE.sub(\"\", line.lower()) for line in reviews]\n",
    "    reviews = [REPLACE_WITH_SPACE.sub(\" \", line) for line in reviews]\n",
    "\n",
    "    return preprocess_reviews2(reviews)\n",
    "\n",
    "def preprocess_reviews2(reviews):\n",
    "    modified_reviews = []\n",
    "    remove_char = '[’!\"#$%&\\'()*+,-./:;<=>?@[\\\\]^_`{|}~\\n。！，]+'\n",
    "    for review in reviews:\n",
    "        s = review.replace('<br />', \"\")  # remove line breaker\n",
    "\n",
    "        s = re.sub(r\"([.!?])\", r\" \\1\", s)\n",
    "        s = re.sub(r\"[^a-zA-Z.!?]+\", r\" \", s)   # remove the non-character\n",
    "\n",
    "        s = unicodeToAscii(s.lower().strip())  # change to lower case\n",
    "        modified_reviews.append(s)\n",
    "    return modified_reviews"
   ]
  },
  {
   "cell_type": "code",
   "execution_count": 4,
   "id": "8003460f",
   "metadata": {},
   "outputs": [],
   "source": [
    "def input_file(train, test):\n",
    "    # Input training data\n",
    "    reviews_train = train\n",
    "    paths_train = ['data/aclImdb/train/neg', 'data/aclImdb/train/pos']\n",
    "    for path in paths_train:\n",
    "        files = os.listdir(path)\n",
    "        for file in files:\n",
    "            if not os.path.isdir(file):\n",
    "                temp = file.split(\"_\", 1)\n",
    "                score = temp[1].split(\".\", 1)\n",
    "                review = \"\"\n",
    "                with open(path + \"/\" + file, 'r', encoding=\"utf8\") as f:\n",
    "                    for line in f.readlines():\n",
    "                        review += line.strip()\n",
    "                # reviews_train.append(' '.join([str(score[0]), review]))\n",
    "                reviews_train.append(review)\n",
    "\n",
    "    # Input training data\n",
    "    reviews_test = test\n",
    "    paths_test = ['data/aclImdb/test/neg', 'data/aclImdb/test/pos']\n",
    "    for path in paths_test:\n",
    "        files = os.listdir(path)\n",
    "        for file in files:\n",
    "            if not os.path.isdir(file):\n",
    "                temp = file.split(\"_\", 1)\n",
    "                score = temp[1].split(\".\", 1)\n",
    "                review = ''\n",
    "                with open(path + \"/\" + file, 'r', encoding=\"utf8\") as f:\n",
    "                    for line in f.readlines():\n",
    "                        review += line.strip()\n",
    "                # reviews_test.append(' '.join([str(score[0]), review]))\n",
    "                reviews_test.append(review)\n",
    "\n",
    "    result = preprocess_reviews(train) + preprocess_reviews(test)\n",
    "    return result"
   ]
  },
  {
   "cell_type": "markdown",
   "id": "f42850ae",
   "metadata": {},
   "source": [
    "## Load the data and save it to single csv file"
   ]
  },
  {
   "cell_type": "code",
   "execution_count": 5,
   "id": "ad25e49a",
   "metadata": {},
   "outputs": [],
   "source": [
    "reviews_train = []\n",
    "reviews_test = []\n",
    "result = input_file(reviews_train, reviews_test)\n",
    "\n",
    "\n",
    "target = ['Negative' if i < 12500 or    (25000 <= i < 37500) else 'Positive' for i in range(50000)]\n",
    "index = [(i+1) for i in range(50000)]\n",
    "\n",
    "train = {}\n",
    "train['ID'] = index\n",
    "train['review'] = result\n",
    "train['label'] = target\n",
    "df = DataFrame(train)\n",
    "df.to_csv('data/allData.csv', index=False)"
   ]
  },
  {
   "cell_type": "code",
   "execution_count": null,
   "id": "918819ef",
   "metadata": {},
   "outputs": [],
   "source": []
  }
 ],
 "metadata": {
  "kernelspec": {
   "display_name": "Python 3 (ipykernel)",
   "language": "python",
   "name": "python3"
  },
  "language_info": {
   "codemirror_mode": {
    "name": "ipython",
    "version": 3
   },
   "file_extension": ".py",
   "mimetype": "text/x-python",
   "name": "python",
   "nbconvert_exporter": "python",
   "pygments_lexer": "ipython3",
   "version": "3.8.5"
  }
 },
 "nbformat": 4,
 "nbformat_minor": 5
}
